{
 "cells": [
  {
   "cell_type": "markdown",
   "metadata": {},
   "source": [
    "# Application to find closest available velibs"
   ]
  },
  {
   "cell_type": "markdown",
   "metadata": {},
   "source": [
    "### Import the needed Libs"
   ]
  },
  {
   "cell_type": "code",
   "execution_count": 38,
   "metadata": {},
   "outputs": [],
   "source": [
    "import urllib.request\n",
    "import json\n",
    "import pandas as pd\n",
    "import unidecode"
   ]
  },
  {
   "cell_type": "markdown",
   "metadata": {},
   "source": [
    "### Load and preprocess the data"
   ]
  },
  {
   "cell_type": "code",
   "execution_count": 39,
   "metadata": {},
   "outputs": [],
   "source": [
    "def get_fresh_data():\n",
    "\n",
    "    with urllib.request.urlopen(\"https://velib-metropole-opendata.smoove.pro/opendata/Velib_Metropole/station_status.json\") as url:\n",
    "        s_disp = json.loads(url.read().decode())\n",
    "\n",
    "    with urllib.request.urlopen(\"https://velib-metropole-opendata.smoove.pro/opendata/Velib_Metropole/station_information.json\") as url:\n",
    "        s_pos = json.loads(url.read().decode())\n",
    "    \n",
    "    return s_disp, s_pos"
   ]
  },
  {
   "cell_type": "code",
   "execution_count": 40,
   "metadata": {},
   "outputs": [],
   "source": [
    "def create_data_frame(s_disp, s_pos):\n",
    "    \n",
    "    station_disp = pd.DataFrame.from_dict(s_disp.get('data').get('stations')).set_index('station_id')\n",
    "    station_pos = pd.DataFrame.from_dict(s_pos.get('data').get('stations')).set_index('station_id')\n",
    "    \n",
    "    st = station_disp.merge(station_pos, on='station_id', how='left').drop(['numBikesAvailable',\n",
    "                            'num_docks_available', 'numDocksAvailable','is_installed','is_renting','last_reported',\n",
    "                            'capacity','stationCode_y', 'num_bikes_available','is_returning','rental_methods'], axis = 1)\n",
    "\n",
    "    only_types = pd.DataFrame(st[\"num_bikes_available_types\"].to_list(), columns=['mech','elec'], index=st.index)\n",
    "    new = only_types.join(only_types[\"mech\"].apply(pd.Series).join(only_types[\"elec\"].apply(pd.Series)))\n",
    "    fin = st.join(new).drop(['num_bikes_available_types','mech','elec', 'stationCode_x'], axis = 1)\n",
    "    return fin\n",
    "\n"
   ]
  },
  {
   "cell_type": "code",
   "execution_count": 49,
   "metadata": {},
   "outputs": [
    {
     "data": {
      "text/html": [
       "<div>\n",
       "<style scoped>\n",
       "    .dataframe tbody tr th:only-of-type {\n",
       "        vertical-align: middle;\n",
       "    }\n",
       "\n",
       "    .dataframe tbody tr th {\n",
       "        vertical-align: top;\n",
       "    }\n",
       "\n",
       "    .dataframe thead th {\n",
       "        text-align: right;\n",
       "    }\n",
       "</style>\n",
       "<table border=\"1\" class=\"dataframe\">\n",
       "  <thead>\n",
       "    <tr style=\"text-align: right;\">\n",
       "      <th></th>\n",
       "      <th>name</th>\n",
       "      <th>lat</th>\n",
       "      <th>lon</th>\n",
       "      <th>mechanical</th>\n",
       "      <th>ebike</th>\n",
       "    </tr>\n",
       "    <tr>\n",
       "      <th>station_id</th>\n",
       "      <th></th>\n",
       "      <th></th>\n",
       "      <th></th>\n",
       "      <th></th>\n",
       "      <th></th>\n",
       "    </tr>\n",
       "  </thead>\n",
       "  <tbody>\n",
       "    <tr>\n",
       "      <th>213688169</th>\n",
       "      <td>Benjamin Godard - Victor Hugo</td>\n",
       "      <td>48.865983</td>\n",
       "      <td>2.275725</td>\n",
       "      <td>2</td>\n",
       "      <td>3</td>\n",
       "    </tr>\n",
       "    <tr>\n",
       "      <th>99950133</th>\n",
       "      <td>André Mazet - Saint-André des Arts</td>\n",
       "      <td>48.853756</td>\n",
       "      <td>2.339096</td>\n",
       "      <td>19</td>\n",
       "      <td>1</td>\n",
       "    </tr>\n",
       "    <tr>\n",
       "      <th>516709288</th>\n",
       "      <td>Charonne - Robert et Sonia Delauney</td>\n",
       "      <td>48.855908</td>\n",
       "      <td>2.392571</td>\n",
       "      <td>4</td>\n",
       "      <td>1</td>\n",
       "    </tr>\n",
       "    <tr>\n",
       "      <th>36255</th>\n",
       "      <td>Toudouze - Clauzel</td>\n",
       "      <td>48.879296</td>\n",
       "      <td>2.337360</td>\n",
       "      <td>0</td>\n",
       "      <td>2</td>\n",
       "    </tr>\n",
       "    <tr>\n",
       "      <th>37815204</th>\n",
       "      <td>Mairie du 12ème</td>\n",
       "      <td>48.840855</td>\n",
       "      <td>2.387555</td>\n",
       "      <td>20</td>\n",
       "      <td>2</td>\n",
       "    </tr>\n",
       "  </tbody>\n",
       "</table>\n",
       "</div>"
      ],
      "text/plain": [
       "                                           name        lat       lon  \\\n",
       "station_id                                                             \n",
       "213688169         Benjamin Godard - Victor Hugo  48.865983  2.275725   \n",
       "99950133     André Mazet - Saint-André des Arts  48.853756  2.339096   \n",
       "516709288   Charonne - Robert et Sonia Delauney  48.855908  2.392571   \n",
       "36255                        Toudouze - Clauzel  48.879296  2.337360   \n",
       "37815204                        Mairie du 12ème  48.840855  2.387555   \n",
       "\n",
       "            mechanical  ebike  \n",
       "station_id                     \n",
       "213688169            2      3  \n",
       "99950133            19      1  \n",
       "516709288            4      1  \n",
       "36255                0      2  \n",
       "37815204            20      2  "
      ]
     },
     "execution_count": 49,
     "metadata": {},
     "output_type": "execute_result"
    }
   ],
   "source": [
    "s_disp, s_pos = get_fresh_data()\n",
    "p = create_data_frame(s_disp, s_pos)\n",
    "\n",
    "p.head()"
   ]
  },
  {
   "cell_type": "markdown",
   "metadata": {},
   "source": [
    "## Find the starting coordinates"
   ]
  },
  {
   "cell_type": "code",
   "execution_count": 42,
   "metadata": {},
   "outputs": [],
   "source": [
    "def get_stating_coord():\n",
    "    lat, lon = 0, 0\n",
    "    shit = input('input : ')\n",
    "    unaccented_string = unidecode.unidecode(shit)\n",
    "    address = '+'.join(unaccented_string.split())\n",
    "\n",
    "    with urllib.request.urlopen(f\"https://nominatim.openstreetmap.org/search?q={address}&format=json\") as url:\n",
    "        geo = json.loads(url.read().decode())\n",
    "    try:\n",
    "        lat = geo[0].get('lat') \n",
    "        lon = geo[0].get('lon')\n",
    "    except:\n",
    "        print('Couldn\\'t find that address')\n",
    "    \n",
    "    return lat, lon"
   ]
  },
  {
   "cell_type": "code",
   "execution_count": 52,
   "metadata": {},
   "outputs": [
    {
     "name": "stdout",
     "output_type": "stream",
     "text": [
      "input : 7 rue cail\n"
     ]
    }
   ],
   "source": [
    "l1, l2 = get_stating_coord()"
   ]
  },
  {
   "cell_type": "markdown",
   "metadata": {},
   "source": [
    "## Get the adress from the lat and lon"
   ]
  },
  {
   "cell_type": "code",
   "execution_count": 44,
   "metadata": {},
   "outputs": [],
   "source": [
    "def get_address(lat, lon):\n",
    "    with urllib.request.urlopen(f\"https://nominatim.openstreetmap.org/reverse?lat={lat}&lon={lon}&format=json\") as url:\n",
    "        addr = json.loads(url.read().decode())\n",
    "    return addr.get('display_name')"
   ]
  },
  {
   "cell_type": "code",
   "execution_count": 54,
   "metadata": {},
   "outputs": [
    {
     "name": "stdout",
     "output_type": "stream",
     "text": [
      "7, Rue Cail, Quartier Saint-Vincent-de-Paul, Paris, Île-de-France, France métropolitaine, 75010, France\n"
     ]
    }
   ],
   "source": [
    "print(get_address(l1,l2))"
   ]
  },
  {
   "cell_type": "markdown",
   "metadata": {},
   "source": [
    "## Get the closest station"
   ]
  },
  {
   "cell_type": "code",
   "execution_count": 46,
   "metadata": {},
   "outputs": [],
   "source": [
    "def find_closest_stations(df,lat,lon,num_station_print):\n",
    "    t = df.iloc[(abs(p['lat']-float(lat))+abs(p['lon']-float(lon))).argsort()[:num_station_print]]\n",
    "    return t"
   ]
  },
  {
   "cell_type": "code",
   "execution_count": 53,
   "metadata": {},
   "outputs": [
    {
     "data": {
      "text/html": [
       "<div>\n",
       "<style scoped>\n",
       "    .dataframe tbody tr th:only-of-type {\n",
       "        vertical-align: middle;\n",
       "    }\n",
       "\n",
       "    .dataframe tbody tr th {\n",
       "        vertical-align: top;\n",
       "    }\n",
       "\n",
       "    .dataframe thead th {\n",
       "        text-align: right;\n",
       "    }\n",
       "</style>\n",
       "<table border=\"1\" class=\"dataframe\">\n",
       "  <thead>\n",
       "    <tr style=\"text-align: right;\">\n",
       "      <th></th>\n",
       "      <th>name</th>\n",
       "      <th>lat</th>\n",
       "      <th>lon</th>\n",
       "      <th>mechanical</th>\n",
       "      <th>ebike</th>\n",
       "    </tr>\n",
       "    <tr>\n",
       "      <th>station_id</th>\n",
       "      <th></th>\n",
       "      <th></th>\n",
       "      <th></th>\n",
       "      <th></th>\n",
       "      <th></th>\n",
       "    </tr>\n",
       "  </thead>\n",
       "  <tbody>\n",
       "    <tr>\n",
       "      <th>27414902</th>\n",
       "      <td>Louis Blanc - La Chapelle</td>\n",
       "      <td>48.884009</td>\n",
       "      <td>2.359934</td>\n",
       "      <td>1</td>\n",
       "      <td>1</td>\n",
       "    </tr>\n",
       "    <tr>\n",
       "      <th>125542925</th>\n",
       "      <td>Louis Blanc - Aqueduc</td>\n",
       "      <td>48.882030</td>\n",
       "      <td>2.363562</td>\n",
       "      <td>2</td>\n",
       "      <td>6</td>\n",
       "    </tr>\n",
       "    <tr>\n",
       "      <th>653065577</th>\n",
       "      <td>Gare du Nord - Demarquay</td>\n",
       "      <td>48.881154</td>\n",
       "      <td>2.358411</td>\n",
       "      <td>4</td>\n",
       "      <td>0</td>\n",
       "    </tr>\n",
       "    <tr>\n",
       "      <th>1599921040</th>\n",
       "      <td>Jessaint - Marx Dormoy</td>\n",
       "      <td>48.884845</td>\n",
       "      <td>2.358930</td>\n",
       "      <td>1</td>\n",
       "      <td>5</td>\n",
       "    </tr>\n",
       "    <tr>\n",
       "      <th>49085250</th>\n",
       "      <td>Departement - Pajol</td>\n",
       "      <td>48.886675</td>\n",
       "      <td>2.361361</td>\n",
       "      <td>2</td>\n",
       "      <td>6</td>\n",
       "    </tr>\n",
       "  </tbody>\n",
       "</table>\n",
       "</div>"
      ],
      "text/plain": [
       "                                 name        lat       lon  mechanical  ebike\n",
       "station_id                                                                   \n",
       "27414902    Louis Blanc - La Chapelle  48.884009  2.359934           1      1\n",
       "125542925      Louis Blanc - Aqueduc   48.882030  2.363562           2      6\n",
       "653065577    Gare du Nord - Demarquay  48.881154  2.358411           4      0\n",
       "1599921040     Jessaint - Marx Dormoy  48.884845  2.358930           1      5\n",
       "49085250          Departement - Pajol  48.886675  2.361361           2      6"
      ]
     },
     "execution_count": 53,
     "metadata": {},
     "output_type": "execute_result"
    }
   ],
   "source": [
    "num_stations_print = 5\n",
    "closest = find_closest_stations(p, l1,l2,num_stations_print)\n",
    "closest"
   ]
  },
  {
   "cell_type": "markdown",
   "metadata": {},
   "source": [
    "## References\n",
    "\n",
    "Position data provided by : https://nominatim.org <br>\n",
    "Vélib data provided by : https://www.velib-metropole.fr/donnees-open-data-gbfs-du-service-velib-metropole"
   ]
  }
 ],
 "metadata": {
  "kernelspec": {
   "display_name": "Python 3",
   "language": "python",
   "name": "python3"
  },
  "language_info": {
   "codemirror_mode": {
    "name": "ipython",
    "version": 3
   },
   "file_extension": ".py",
   "mimetype": "text/x-python",
   "name": "python",
   "nbconvert_exporter": "python",
   "pygments_lexer": "ipython3",
   "version": "3.8.2"
  }
 },
 "nbformat": 4,
 "nbformat_minor": 4
}
